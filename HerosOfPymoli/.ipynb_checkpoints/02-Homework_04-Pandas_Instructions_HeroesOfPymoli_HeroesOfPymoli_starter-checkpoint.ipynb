{
 "cells": [
  {
   "cell_type": "markdown",
   "metadata": {},
   "source": [
    "### Note\n",
    "* Instructions have been included for each segment. You do not have to follow them exactly, but they are included to help you think through the steps."
   ]
  },
  {
   "cell_type": "code",
   "execution_count": 2,
   "metadata": {},
   "outputs": [],
   "source": [
    "# Dependencies and Setup\n",
    "import pandas as pd\n",
    "\n",
    "# File to Load (Remember to Change These)\n",
    "file_to_load = \"Resources/Pymoli_data.csv\"\n",
    "\n",
    "# Read Purchasing File and store into Pandas data frame\n",
    "Pymoli_data = pd.read_csv(file_to_load)"
   ]
  },
  {
   "cell_type": "code",
   "execution_count": 3,
   "metadata": {},
   "outputs": [
    {
     "data": {
      "text/html": [
       "<div>\n",
       "<style scoped>\n",
       "    .dataframe tbody tr th:only-of-type {\n",
       "        vertical-align: middle;\n",
       "    }\n",
       "\n",
       "    .dataframe tbody tr th {\n",
       "        vertical-align: top;\n",
       "    }\n",
       "\n",
       "    .dataframe thead th {\n",
       "        text-align: right;\n",
       "    }\n",
       "</style>\n",
       "<table border=\"1\" class=\"dataframe\">\n",
       "  <thead>\n",
       "    <tr style=\"text-align: right;\">\n",
       "      <th></th>\n",
       "      <th>Purchase ID</th>\n",
       "      <th>SN</th>\n",
       "      <th>Age</th>\n",
       "      <th>Gender</th>\n",
       "      <th>Item ID</th>\n",
       "      <th>Item Name</th>\n",
       "      <th>Price</th>\n",
       "    </tr>\n",
       "  </thead>\n",
       "  <tbody>\n",
       "    <tr>\n",
       "      <th>0</th>\n",
       "      <td>0</td>\n",
       "      <td>Lisim78</td>\n",
       "      <td>20</td>\n",
       "      <td>Male</td>\n",
       "      <td>108</td>\n",
       "      <td>Extraction, Quickblade Of Trembling Hands</td>\n",
       "      <td>3.53</td>\n",
       "    </tr>\n",
       "    <tr>\n",
       "      <th>1</th>\n",
       "      <td>1</td>\n",
       "      <td>Lisovynya38</td>\n",
       "      <td>40</td>\n",
       "      <td>Male</td>\n",
       "      <td>143</td>\n",
       "      <td>Frenzied Scimitar</td>\n",
       "      <td>1.56</td>\n",
       "    </tr>\n",
       "    <tr>\n",
       "      <th>2</th>\n",
       "      <td>2</td>\n",
       "      <td>Ithergue48</td>\n",
       "      <td>24</td>\n",
       "      <td>Male</td>\n",
       "      <td>92</td>\n",
       "      <td>Final Critic</td>\n",
       "      <td>4.88</td>\n",
       "    </tr>\n",
       "    <tr>\n",
       "      <th>3</th>\n",
       "      <td>3</td>\n",
       "      <td>Chamassasya86</td>\n",
       "      <td>24</td>\n",
       "      <td>Male</td>\n",
       "      <td>100</td>\n",
       "      <td>Blindscythe</td>\n",
       "      <td>3.27</td>\n",
       "    </tr>\n",
       "    <tr>\n",
       "      <th>4</th>\n",
       "      <td>4</td>\n",
       "      <td>Iskosia90</td>\n",
       "      <td>23</td>\n",
       "      <td>Male</td>\n",
       "      <td>131</td>\n",
       "      <td>Fury</td>\n",
       "      <td>1.44</td>\n",
       "    </tr>\n",
       "  </tbody>\n",
       "</table>\n",
       "</div>"
      ],
      "text/plain": [
       "   Purchase ID             SN  Age Gender  Item ID  \\\n",
       "0            0        Lisim78   20   Male      108   \n",
       "1            1    Lisovynya38   40   Male      143   \n",
       "2            2     Ithergue48   24   Male       92   \n",
       "3            3  Chamassasya86   24   Male      100   \n",
       "4            4      Iskosia90   23   Male      131   \n",
       "\n",
       "                                   Item Name  Price  \n",
       "0  Extraction, Quickblade Of Trembling Hands   3.53  \n",
       "1                          Frenzied Scimitar   1.56  \n",
       "2                               Final Critic   4.88  \n",
       "3                                Blindscythe   3.27  \n",
       "4                                       Fury   1.44  "
      ]
     },
     "execution_count": 3,
     "metadata": {},
     "output_type": "execute_result"
    }
   ],
   "source": [
    "Pymoli_data.head()"
   ]
  },
  {
   "cell_type": "markdown",
   "metadata": {},
   "source": [
    "## Player Count"
   ]
  },
  {
   "cell_type": "code",
   "execution_count": 5,
   "metadata": {},
   "outputs": [
    {
     "data": {
      "text/html": [
       "<div>\n",
       "<style scoped>\n",
       "    .dataframe tbody tr th:only-of-type {\n",
       "        vertical-align: middle;\n",
       "    }\n",
       "\n",
       "    .dataframe tbody tr th {\n",
       "        vertical-align: top;\n",
       "    }\n",
       "\n",
       "    .dataframe thead th {\n",
       "        text-align: right;\n",
       "    }\n",
       "</style>\n",
       "<table border=\"1\" class=\"dataframe\">\n",
       "  <thead>\n",
       "    <tr style=\"text-align: right;\">\n",
       "      <th></th>\n",
       "      <th>Total Players</th>\n",
       "    </tr>\n",
       "  </thead>\n",
       "  <tbody>\n",
       "    <tr>\n",
       "      <th>0</th>\n",
       "      <td>576</td>\n",
       "    </tr>\n",
       "  </tbody>\n",
       "</table>\n",
       "</div>"
      ],
      "text/plain": [
       "   Total Players\n",
       "0            576"
      ]
     },
     "execution_count": 5,
     "metadata": {},
     "output_type": "execute_result"
    }
   ],
   "source": [
    "# Create a data frame with total players named player count\n",
    "total_players = len(Pymoli_data[\"SN\"].value_counts())\n",
    "\n",
    "player_count = pd.DataFrame({\"Total Players\":[total_players]})\n",
    "player_count"
   ]
  },
  {
   "cell_type": "markdown",
   "metadata": {},
   "source": [
    "## Purchasing Analysis (Total)"
   ]
  },
  {
   "cell_type": "markdown",
   "metadata": {},
   "source": [
    "* Run basic calculations to obtain number of unique items, average price, etc.\n",
    "\n",
    "\n",
    "* Create a summary data frame to hold the results\n",
    "\n",
    "\n",
    "* Optional: give the displayed data cleaner formatting\n",
    "\n",
    "\n",
    "* Display the summary data frame\n"
   ]
  },
  {
   "cell_type": "code",
   "execution_count": 15,
   "metadata": {
    "scrolled": true
   },
   "outputs": [],
   "source": [
    "#Referenec for using nunique : https://thispointer.com/pandas-get-unique-values-in-single-or-multiple-columns-of-a-dataframe-in-python/#:~:text=Pandas%20%3A%20Get%20unique%20values%20in%20columns%20of,Get%20Unique%20values%20in%20a%20multiple%20columns.%20"
   ]
  },
  {
   "cell_type": "code",
   "execution_count": 6,
   "metadata": {},
   "outputs": [
    {
     "data": {
      "text/html": [
       "<style  type=\"text/css\" >\n",
       "</style><table id=\"T_fe314a7a_e16d_11ea_99a7_b46bfcdc9ce9\" ><thead>    <tr>        <th class=\"blank level0\" ></th>        <th class=\"col_heading level0 col0\" >Number of unique items</th>        <th class=\"col_heading level0 col1\" >Average Price</th>        <th class=\"col_heading level0 col2\" >Number of Purchases</th>        <th class=\"col_heading level0 col3\" >Total Revenue</th>    </tr></thead><tbody>\n",
       "                <tr>\n",
       "                        <th id=\"T_fe314a7a_e16d_11ea_99a7_b46bfcdc9ce9level0_row0\" class=\"row_heading level0 row0\" >0</th>\n",
       "                        <td id=\"T_fe314a7a_e16d_11ea_99a7_b46bfcdc9ce9row0_col0\" class=\"data row0 col0\" >179</td>\n",
       "                        <td id=\"T_fe314a7a_e16d_11ea_99a7_b46bfcdc9ce9row0_col1\" class=\"data row0 col1\" >$3.05</td>\n",
       "                        <td id=\"T_fe314a7a_e16d_11ea_99a7_b46bfcdc9ce9row0_col2\" class=\"data row0 col2\" >780</td>\n",
       "                        <td id=\"T_fe314a7a_e16d_11ea_99a7_b46bfcdc9ce9row0_col3\" class=\"data row0 col3\" >$2,379.77</td>\n",
       "            </tr>\n",
       "    </tbody></table>"
      ],
      "text/plain": [
       "<pandas.io.formats.style.Styler at 0x1cccbba5fa0>"
      ]
     },
     "execution_count": 6,
     "metadata": {},
     "output_type": "execute_result"
    }
   ],
   "source": [
    "Purchase_Summary = pd.DataFrame({\n",
    "    \"Number of unique items\": [Pymoli_data[\"Item ID\"].nunique()],\n",
    "    \"Average Price\":[Pymoli_data[\"Price\"].mean()], # figure out a way to round it to two decimal\n",
    "    \"Number of Purchases\": [Pymoli_data[\"Item ID\"].count()],\n",
    "    \"Total Revenue\":[Pymoli_data[\"Price\"].sum()]\n",
    "})\n",
    "\n",
    "Purchase_Summary\n",
    "\n",
    "# Format with currency style\n",
    "Purchase_Summary.style.format({\"Average Price\":\"${:,.2f}\",\n",
    "                                  \"Total Revenue\":\"${:,.2f}\"})"
   ]
  },
  {
   "cell_type": "markdown",
   "metadata": {},
   "source": [
    "## Gender Demographics"
   ]
  },
  {
   "cell_type": "markdown",
   "metadata": {},
   "source": [
    "* Percentage and Count of Male Players\n",
    "\n",
    "\n",
    "* Percentage and Count of Female Players\n",
    "\n",
    "\n",
    "* Percentage and Count of Other / Non-Disclosed\n",
    "\n",
    "\n"
   ]
  },
  {
   "cell_type": "code",
   "execution_count": 7,
   "metadata": {},
   "outputs": [],
   "source": [
    "gender_groupby = Pymoli_data.groupby(\"Gender\")"
   ]
  },
  {
   "cell_type": "code",
   "execution_count": 8,
   "metadata": {},
   "outputs": [],
   "source": [
    "gender_count = (gender_groupby[\"SN\"].nunique())"
   ]
  },
  {
   "cell_type": "code",
   "execution_count": 9,
   "metadata": {},
   "outputs": [],
   "source": [
    "gender_percentage = gender_count / total_players * 100"
   ]
  },
  {
   "cell_type": "code",
   "execution_count": 10,
   "metadata": {},
   "outputs": [
    {
     "data": {
      "text/html": [
       "<style  type=\"text/css\" >\n",
       "</style><table id=\"T_030a798c_e16e_11ea_bbae_b46bfcdc9ce9\" ><thead>    <tr>        <th class=\"blank level0\" ></th>        <th class=\"col_heading level0 col0\" >Total Count</th>        <th class=\"col_heading level0 col1\" >Percentage of Players</th>    </tr></thead><tbody>\n",
       "                <tr>\n",
       "                        <th id=\"T_030a798c_e16e_11ea_bbae_b46bfcdc9ce9level0_row0\" class=\"row_heading level0 row0\" >Male</th>\n",
       "                        <td id=\"T_030a798c_e16e_11ea_bbae_b46bfcdc9ce9row0_col0\" class=\"data row0 col0\" >484</td>\n",
       "                        <td id=\"T_030a798c_e16e_11ea_bbae_b46bfcdc9ce9row0_col1\" class=\"data row0 col1\" >84.03%</td>\n",
       "            </tr>\n",
       "            <tr>\n",
       "                        <th id=\"T_030a798c_e16e_11ea_bbae_b46bfcdc9ce9level0_row1\" class=\"row_heading level0 row1\" >Female</th>\n",
       "                        <td id=\"T_030a798c_e16e_11ea_bbae_b46bfcdc9ce9row1_col0\" class=\"data row1 col0\" >81</td>\n",
       "                        <td id=\"T_030a798c_e16e_11ea_bbae_b46bfcdc9ce9row1_col1\" class=\"data row1 col1\" >14.06%</td>\n",
       "            </tr>\n",
       "            <tr>\n",
       "                        <th id=\"T_030a798c_e16e_11ea_bbae_b46bfcdc9ce9level0_row2\" class=\"row_heading level0 row2\" >Other / Non-Disclosed</th>\n",
       "                        <td id=\"T_030a798c_e16e_11ea_bbae_b46bfcdc9ce9row2_col0\" class=\"data row2 col0\" >11</td>\n",
       "                        <td id=\"T_030a798c_e16e_11ea_bbae_b46bfcdc9ce9row2_col1\" class=\"data row2 col1\" >1.91%</td>\n",
       "            </tr>\n",
       "    </tbody></table>"
      ],
      "text/plain": [
       "<pandas.io.formats.style.Styler at 0x1ccceda1ac0>"
      ]
     },
     "execution_count": 10,
     "metadata": {},
     "output_type": "execute_result"
    }
   ],
   "source": [
    "#Create dataframe\n",
    "gender_demographics = pd.DataFrame({\n",
    "    \"Total Count\": gender_count,\n",
    "    \"Percentage of Players\":gender_percentage\n",
    "})\n",
    "gender_demographics\n",
    "\n",
    "\n",
    "# Format the data frame with no index name in the corner\n",
    "gender_demographics.index.name = None\n",
    "\n",
    "# Format the values sorted by total count in descending order, and two decimal places for the percentage\n",
    "gender_demographics.sort_values([\"Total Count\"], ascending = False).style.format({\"Percentage of Players\":\"{:.2f}%\"})"
   ]
  },
  {
   "cell_type": "markdown",
   "metadata": {},
   "source": [
    "\n",
    "## Purchasing Analysis (Gender)"
   ]
  },
  {
   "cell_type": "markdown",
   "metadata": {},
   "source": [
    "* Run basic calculations to obtain purchase count, avg. purchase price, avg. purchase total per person etc. by gender\n",
    "\n",
    "\n",
    "\n",
    "\n",
    "* Create a summary data frame to hold the results\n",
    "\n",
    "\n",
    "* Optional: give the displayed data cleaner formatting\n",
    "\n",
    "\n",
    "* Display the summary data frame"
   ]
  },
  {
   "cell_type": "code",
   "execution_count": 11,
   "metadata": {},
   "outputs": [],
   "source": [
    "purchase_count = gender_groupby[\"Purchase ID\"].count()"
   ]
  },
  {
   "cell_type": "code",
   "execution_count": 12,
   "metadata": {},
   "outputs": [],
   "source": [
    "average_price = gender_groupby[\"Price\"].mean()\n",
    "average_purchase_total = gender_groupby[\"Price\"].sum()"
   ]
  },
  {
   "cell_type": "code",
   "execution_count": 13,
   "metadata": {},
   "outputs": [],
   "source": [
    "average_purchase_per_person = average_purchase_total/gender_count"
   ]
  },
  {
   "cell_type": "code",
   "execution_count": 14,
   "metadata": {},
   "outputs": [
    {
     "data": {
      "text/html": [
       "<style  type=\"text/css\" >\n",
       "</style><table id=\"T_084a366b_e16e_11ea_906f_b46bfcdc9ce9\" ><thead>    <tr>        <th class=\"blank level0\" ></th>        <th class=\"col_heading level0 col0\" >Purchase Count</th>        <th class=\"col_heading level0 col1\" >Average Purchase Price</th>        <th class=\"col_heading level0 col2\" >Total Purchase Value</th>        <th class=\"col_heading level0 col3\" >Avg Total Purchase per Person</th>    </tr>    <tr>        <th class=\"index_name level0\" >Gender</th>        <th class=\"blank\" ></th>        <th class=\"blank\" ></th>        <th class=\"blank\" ></th>        <th class=\"blank\" ></th>    </tr></thead><tbody>\n",
       "                <tr>\n",
       "                        <th id=\"T_084a366b_e16e_11ea_906f_b46bfcdc9ce9level0_row0\" class=\"row_heading level0 row0\" >Female</th>\n",
       "                        <td id=\"T_084a366b_e16e_11ea_906f_b46bfcdc9ce9row0_col0\" class=\"data row0 col0\" >113</td>\n",
       "                        <td id=\"T_084a366b_e16e_11ea_906f_b46bfcdc9ce9row0_col1\" class=\"data row0 col1\" >$3.20</td>\n",
       "                        <td id=\"T_084a366b_e16e_11ea_906f_b46bfcdc9ce9row0_col2\" class=\"data row0 col2\" >$361.94</td>\n",
       "                        <td id=\"T_084a366b_e16e_11ea_906f_b46bfcdc9ce9row0_col3\" class=\"data row0 col3\" >$4.47</td>\n",
       "            </tr>\n",
       "            <tr>\n",
       "                        <th id=\"T_084a366b_e16e_11ea_906f_b46bfcdc9ce9level0_row1\" class=\"row_heading level0 row1\" >Male</th>\n",
       "                        <td id=\"T_084a366b_e16e_11ea_906f_b46bfcdc9ce9row1_col0\" class=\"data row1 col0\" >652</td>\n",
       "                        <td id=\"T_084a366b_e16e_11ea_906f_b46bfcdc9ce9row1_col1\" class=\"data row1 col1\" >$3.02</td>\n",
       "                        <td id=\"T_084a366b_e16e_11ea_906f_b46bfcdc9ce9row1_col2\" class=\"data row1 col2\" >$1,967.64</td>\n",
       "                        <td id=\"T_084a366b_e16e_11ea_906f_b46bfcdc9ce9row1_col3\" class=\"data row1 col3\" >$4.07</td>\n",
       "            </tr>\n",
       "            <tr>\n",
       "                        <th id=\"T_084a366b_e16e_11ea_906f_b46bfcdc9ce9level0_row2\" class=\"row_heading level0 row2\" >Other / Non-Disclosed</th>\n",
       "                        <td id=\"T_084a366b_e16e_11ea_906f_b46bfcdc9ce9row2_col0\" class=\"data row2 col0\" >15</td>\n",
       "                        <td id=\"T_084a366b_e16e_11ea_906f_b46bfcdc9ce9row2_col1\" class=\"data row2 col1\" >$3.35</td>\n",
       "                        <td id=\"T_084a366b_e16e_11ea_906f_b46bfcdc9ce9row2_col2\" class=\"data row2 col2\" >$50.19</td>\n",
       "                        <td id=\"T_084a366b_e16e_11ea_906f_b46bfcdc9ce9row2_col3\" class=\"data row2 col3\" >$4.56</td>\n",
       "            </tr>\n",
       "    </tbody></table>"
      ],
      "text/plain": [
       "<pandas.io.formats.style.Styler at 0x1cccdcb4be0>"
      ]
     },
     "execution_count": 14,
     "metadata": {},
     "output_type": "execute_result"
    }
   ],
   "source": [
    "purchase_analysis = pd.DataFrame({\n",
    "    \"Purchase Count\":purchase_count,\n",
    "    \"Average Purchase Price\":average_price,\n",
    "    \"Total Purchase Value\":average_purchase_total,\n",
    "    \"Avg Total Purchase per Person\":average_purchase_per_person\n",
    "})\n",
    "\n",
    "# Provide index in top left as \"Gender\"\n",
    "purchase_analysis.index.name = \"Gender\"\n",
    "\n",
    "# Format with currency style\n",
    "purchase_analysis.style.format({\"Total Purchase Value\":\"${:,.2f}\",\n",
    "                                  \"Average Purchase Price\":\"${:,.2f}\",\n",
    "                                  \"Avg Total Purchase per Person\":\"${:,.2f}\"})"
   ]
  },
  {
   "cell_type": "code",
   "execution_count": null,
   "metadata": {},
   "outputs": [],
   "source": []
  },
  {
   "cell_type": "markdown",
   "metadata": {},
   "source": [
    "## Age Demographics"
   ]
  },
  {
   "cell_type": "markdown",
   "metadata": {},
   "source": [
    "* Establish bins for ages\n",
    "\n",
    "\n",
    "* Categorize the existing players using the age bins. Hint: use pd.cut()\n",
    "\n",
    "\n",
    "* Calculate the numbers and percentages by age group\n",
    "\n",
    "\n",
    "* Create a summary data frame to hold the results\n",
    "\n",
    "\n",
    "* Optional: round the percentage column to two decimal points\n",
    "\n",
    "\n",
    "* Display Age Demographics Table\n"
   ]
  },
  {
   "cell_type": "code",
   "execution_count": 15,
   "metadata": {},
   "outputs": [],
   "source": [
    "# Establish bins for ages\n",
    "age_bins = [0, 9.90, 14.90, 19.90, 24.90, 29.90, 34.90, 39.90, 99999]\n",
    "group_names = [\"<10\", \"10-14\", \"15-19\", \"20-24\", \"25-29\", \"30-34\", \"35-39\", \"40+\"]\n",
    "\n",
    "# Segment and sort age values into bins established above\n",
    "Pymoli_data[\"Age Group\"] = pd.cut(Pymoli_data[\"Age\"],age_bins, labels=group_names)"
   ]
  },
  {
   "cell_type": "code",
   "execution_count": 16,
   "metadata": {},
   "outputs": [
    {
     "data": {
      "text/html": [
       "<style  type=\"text/css\" >\n",
       "</style><table id=\"T_0c4e96a1_e16e_11ea_87c3_b46bfcdc9ce9\" ><thead>    <tr>        <th class=\"blank level0\" ></th>        <th class=\"col_heading level0 col0\" >Percentage of Players</th>        <th class=\"col_heading level0 col1\" >Total Count</th>    </tr></thead><tbody>\n",
       "                <tr>\n",
       "                        <th id=\"T_0c4e96a1_e16e_11ea_87c3_b46bfcdc9ce9level0_row0\" class=\"row_heading level0 row0\" ><10</th>\n",
       "                        <td id=\"T_0c4e96a1_e16e_11ea_87c3_b46bfcdc9ce9row0_col0\" class=\"data row0 col0\" >2.95%</td>\n",
       "                        <td id=\"T_0c4e96a1_e16e_11ea_87c3_b46bfcdc9ce9row0_col1\" class=\"data row0 col1\" >17</td>\n",
       "            </tr>\n",
       "            <tr>\n",
       "                        <th id=\"T_0c4e96a1_e16e_11ea_87c3_b46bfcdc9ce9level0_row1\" class=\"row_heading level0 row1\" >10-14</th>\n",
       "                        <td id=\"T_0c4e96a1_e16e_11ea_87c3_b46bfcdc9ce9row1_col0\" class=\"data row1 col0\" >3.82%</td>\n",
       "                        <td id=\"T_0c4e96a1_e16e_11ea_87c3_b46bfcdc9ce9row1_col1\" class=\"data row1 col1\" >22</td>\n",
       "            </tr>\n",
       "            <tr>\n",
       "                        <th id=\"T_0c4e96a1_e16e_11ea_87c3_b46bfcdc9ce9level0_row2\" class=\"row_heading level0 row2\" >15-19</th>\n",
       "                        <td id=\"T_0c4e96a1_e16e_11ea_87c3_b46bfcdc9ce9row2_col0\" class=\"data row2 col0\" >18.58%</td>\n",
       "                        <td id=\"T_0c4e96a1_e16e_11ea_87c3_b46bfcdc9ce9row2_col1\" class=\"data row2 col1\" >107</td>\n",
       "            </tr>\n",
       "            <tr>\n",
       "                        <th id=\"T_0c4e96a1_e16e_11ea_87c3_b46bfcdc9ce9level0_row3\" class=\"row_heading level0 row3\" >20-24</th>\n",
       "                        <td id=\"T_0c4e96a1_e16e_11ea_87c3_b46bfcdc9ce9row3_col0\" class=\"data row3 col0\" >44.79%</td>\n",
       "                        <td id=\"T_0c4e96a1_e16e_11ea_87c3_b46bfcdc9ce9row3_col1\" class=\"data row3 col1\" >258</td>\n",
       "            </tr>\n",
       "            <tr>\n",
       "                        <th id=\"T_0c4e96a1_e16e_11ea_87c3_b46bfcdc9ce9level0_row4\" class=\"row_heading level0 row4\" >25-29</th>\n",
       "                        <td id=\"T_0c4e96a1_e16e_11ea_87c3_b46bfcdc9ce9row4_col0\" class=\"data row4 col0\" >13.37%</td>\n",
       "                        <td id=\"T_0c4e96a1_e16e_11ea_87c3_b46bfcdc9ce9row4_col1\" class=\"data row4 col1\" >77</td>\n",
       "            </tr>\n",
       "            <tr>\n",
       "                        <th id=\"T_0c4e96a1_e16e_11ea_87c3_b46bfcdc9ce9level0_row5\" class=\"row_heading level0 row5\" >30-34</th>\n",
       "                        <td id=\"T_0c4e96a1_e16e_11ea_87c3_b46bfcdc9ce9row5_col0\" class=\"data row5 col0\" >9.03%</td>\n",
       "                        <td id=\"T_0c4e96a1_e16e_11ea_87c3_b46bfcdc9ce9row5_col1\" class=\"data row5 col1\" >52</td>\n",
       "            </tr>\n",
       "            <tr>\n",
       "                        <th id=\"T_0c4e96a1_e16e_11ea_87c3_b46bfcdc9ce9level0_row6\" class=\"row_heading level0 row6\" >35-39</th>\n",
       "                        <td id=\"T_0c4e96a1_e16e_11ea_87c3_b46bfcdc9ce9row6_col0\" class=\"data row6 col0\" >5.38%</td>\n",
       "                        <td id=\"T_0c4e96a1_e16e_11ea_87c3_b46bfcdc9ce9row6_col1\" class=\"data row6 col1\" >31</td>\n",
       "            </tr>\n",
       "            <tr>\n",
       "                        <th id=\"T_0c4e96a1_e16e_11ea_87c3_b46bfcdc9ce9level0_row7\" class=\"row_heading level0 row7\" >40+</th>\n",
       "                        <td id=\"T_0c4e96a1_e16e_11ea_87c3_b46bfcdc9ce9row7_col0\" class=\"data row7 col0\" >2.08%</td>\n",
       "                        <td id=\"T_0c4e96a1_e16e_11ea_87c3_b46bfcdc9ce9row7_col1\" class=\"data row7 col1\" >12</td>\n",
       "            </tr>\n",
       "    </tbody></table>"
      ],
      "text/plain": [
       "<pandas.io.formats.style.Styler at 0x1ccceda1d60>"
      ]
     },
     "execution_count": 16,
     "metadata": {},
     "output_type": "execute_result"
    }
   ],
   "source": [
    "# Create new data frame with the added \"Age Group\" and group it\n",
    "age_groupby = Pymoli_data.groupby(\"Age Group\")\n",
    "\n",
    "# Count total players by age category\n",
    "age_count = age_groupby[\"SN\"].nunique()\n",
    "\n",
    "# Calculate percentages by age category \n",
    "percentage_by_age = (age_count/total_players) * 100\n",
    "\n",
    "# Create data frame with obtained values\n",
    "age_demographics = pd.DataFrame({\"Percentage of Players\": percentage_by_age, \"Total Count\": age_count})\n",
    "\n",
    "# Format the data frame with no index name in the corner\n",
    "age_demographics.index.name = None\n",
    "\n",
    "# Format percentage with two decimal places \n",
    "age_demographics.style.format({\"Percentage of Players\":\"{:,.2f}%\"}) "
   ]
  },
  {
   "cell_type": "markdown",
   "metadata": {},
   "source": [
    "## Purchasing Analysis (Age)"
   ]
  },
  {
   "cell_type": "markdown",
   "metadata": {},
   "source": [
    "* Bin the purchase_data data frame by age\n",
    "\n",
    "\n",
    "* Run basic calculations to obtain purchase count, avg. purchase price, avg. purchase total per person etc. in the table below\n",
    "\n",
    "\n",
    "* Create a summary data frame to hold the results\n",
    "\n",
    "\n",
    "* Optional: give the displayed data cleaner formatting\n",
    "\n",
    "\n",
    "* Display the summary data frame"
   ]
  },
  {
   "cell_type": "code",
   "execution_count": 17,
   "metadata": {},
   "outputs": [
    {
     "data": {
      "text/plain": [
       "<10       23\n",
       "10-14     28\n",
       "15-19    136\n",
       "20-24    365\n",
       "25-29    101\n",
       "30-34     73\n",
       "35-39     41\n",
       "40+       13\n",
       "Name: Purchase ID, dtype: int64"
      ]
     },
     "execution_count": 17,
     "metadata": {},
     "output_type": "execute_result"
    }
   ],
   "source": [
    "purchase_count_age = age_groupby[\"Purchase ID\"].count()\n",
    "purchase_count_age"
   ]
  },
  {
   "cell_type": "code",
   "execution_count": 18,
   "metadata": {},
   "outputs": [],
   "source": [
    "average_price_age = age_groupby[\"Price\"].mean()"
   ]
  },
  {
   "cell_type": "code",
   "execution_count": 19,
   "metadata": {},
   "outputs": [],
   "source": [
    "average_purchase_total_age = age_groupby[\"Price\"].sum()"
   ]
  },
  {
   "cell_type": "code",
   "execution_count": 20,
   "metadata": {},
   "outputs": [],
   "source": [
    "average_purchase_per_person_age = average_purchase_total_age/age_count"
   ]
  },
  {
   "cell_type": "code",
   "execution_count": 21,
   "metadata": {},
   "outputs": [
    {
     "data": {
      "text/html": [
       "<style  type=\"text/css\" >\n",
       "</style><table id=\"T_13302e8d_e16e_11ea_bf00_b46bfcdc9ce9\" ><thead>    <tr>        <th class=\"blank level0\" ></th>        <th class=\"col_heading level0 col0\" >Purchase Count</th>        <th class=\"col_heading level0 col1\" >Average Purchase Price</th>        <th class=\"col_heading level0 col2\" >Total Purchase Value</th>        <th class=\"col_heading level0 col3\" >Avg Total Purchase per Person</th>    </tr></thead><tbody>\n",
       "                <tr>\n",
       "                        <th id=\"T_13302e8d_e16e_11ea_bf00_b46bfcdc9ce9level0_row0\" class=\"row_heading level0 row0\" ><10</th>\n",
       "                        <td id=\"T_13302e8d_e16e_11ea_bf00_b46bfcdc9ce9row0_col0\" class=\"data row0 col0\" >23</td>\n",
       "                        <td id=\"T_13302e8d_e16e_11ea_bf00_b46bfcdc9ce9row0_col1\" class=\"data row0 col1\" >$3.35</td>\n",
       "                        <td id=\"T_13302e8d_e16e_11ea_bf00_b46bfcdc9ce9row0_col2\" class=\"data row0 col2\" >$77.13</td>\n",
       "                        <td id=\"T_13302e8d_e16e_11ea_bf00_b46bfcdc9ce9row0_col3\" class=\"data row0 col3\" >$4.54</td>\n",
       "            </tr>\n",
       "            <tr>\n",
       "                        <th id=\"T_13302e8d_e16e_11ea_bf00_b46bfcdc9ce9level0_row1\" class=\"row_heading level0 row1\" >10-14</th>\n",
       "                        <td id=\"T_13302e8d_e16e_11ea_bf00_b46bfcdc9ce9row1_col0\" class=\"data row1 col0\" >28</td>\n",
       "                        <td id=\"T_13302e8d_e16e_11ea_bf00_b46bfcdc9ce9row1_col1\" class=\"data row1 col1\" >$2.96</td>\n",
       "                        <td id=\"T_13302e8d_e16e_11ea_bf00_b46bfcdc9ce9row1_col2\" class=\"data row1 col2\" >$82.78</td>\n",
       "                        <td id=\"T_13302e8d_e16e_11ea_bf00_b46bfcdc9ce9row1_col3\" class=\"data row1 col3\" >$3.76</td>\n",
       "            </tr>\n",
       "            <tr>\n",
       "                        <th id=\"T_13302e8d_e16e_11ea_bf00_b46bfcdc9ce9level0_row2\" class=\"row_heading level0 row2\" >15-19</th>\n",
       "                        <td id=\"T_13302e8d_e16e_11ea_bf00_b46bfcdc9ce9row2_col0\" class=\"data row2 col0\" >136</td>\n",
       "                        <td id=\"T_13302e8d_e16e_11ea_bf00_b46bfcdc9ce9row2_col1\" class=\"data row2 col1\" >$3.04</td>\n",
       "                        <td id=\"T_13302e8d_e16e_11ea_bf00_b46bfcdc9ce9row2_col2\" class=\"data row2 col2\" >$412.89</td>\n",
       "                        <td id=\"T_13302e8d_e16e_11ea_bf00_b46bfcdc9ce9row2_col3\" class=\"data row2 col3\" >$3.86</td>\n",
       "            </tr>\n",
       "            <tr>\n",
       "                        <th id=\"T_13302e8d_e16e_11ea_bf00_b46bfcdc9ce9level0_row3\" class=\"row_heading level0 row3\" >20-24</th>\n",
       "                        <td id=\"T_13302e8d_e16e_11ea_bf00_b46bfcdc9ce9row3_col0\" class=\"data row3 col0\" >365</td>\n",
       "                        <td id=\"T_13302e8d_e16e_11ea_bf00_b46bfcdc9ce9row3_col1\" class=\"data row3 col1\" >$3.05</td>\n",
       "                        <td id=\"T_13302e8d_e16e_11ea_bf00_b46bfcdc9ce9row3_col2\" class=\"data row3 col2\" >$1,114.06</td>\n",
       "                        <td id=\"T_13302e8d_e16e_11ea_bf00_b46bfcdc9ce9row3_col3\" class=\"data row3 col3\" >$4.32</td>\n",
       "            </tr>\n",
       "            <tr>\n",
       "                        <th id=\"T_13302e8d_e16e_11ea_bf00_b46bfcdc9ce9level0_row4\" class=\"row_heading level0 row4\" >25-29</th>\n",
       "                        <td id=\"T_13302e8d_e16e_11ea_bf00_b46bfcdc9ce9row4_col0\" class=\"data row4 col0\" >101</td>\n",
       "                        <td id=\"T_13302e8d_e16e_11ea_bf00_b46bfcdc9ce9row4_col1\" class=\"data row4 col1\" >$2.90</td>\n",
       "                        <td id=\"T_13302e8d_e16e_11ea_bf00_b46bfcdc9ce9row4_col2\" class=\"data row4 col2\" >$293.00</td>\n",
       "                        <td id=\"T_13302e8d_e16e_11ea_bf00_b46bfcdc9ce9row4_col3\" class=\"data row4 col3\" >$3.81</td>\n",
       "            </tr>\n",
       "            <tr>\n",
       "                        <th id=\"T_13302e8d_e16e_11ea_bf00_b46bfcdc9ce9level0_row5\" class=\"row_heading level0 row5\" >30-34</th>\n",
       "                        <td id=\"T_13302e8d_e16e_11ea_bf00_b46bfcdc9ce9row5_col0\" class=\"data row5 col0\" >73</td>\n",
       "                        <td id=\"T_13302e8d_e16e_11ea_bf00_b46bfcdc9ce9row5_col1\" class=\"data row5 col1\" >$2.93</td>\n",
       "                        <td id=\"T_13302e8d_e16e_11ea_bf00_b46bfcdc9ce9row5_col2\" class=\"data row5 col2\" >$214.00</td>\n",
       "                        <td id=\"T_13302e8d_e16e_11ea_bf00_b46bfcdc9ce9row5_col3\" class=\"data row5 col3\" >$4.12</td>\n",
       "            </tr>\n",
       "            <tr>\n",
       "                        <th id=\"T_13302e8d_e16e_11ea_bf00_b46bfcdc9ce9level0_row6\" class=\"row_heading level0 row6\" >35-39</th>\n",
       "                        <td id=\"T_13302e8d_e16e_11ea_bf00_b46bfcdc9ce9row6_col0\" class=\"data row6 col0\" >41</td>\n",
       "                        <td id=\"T_13302e8d_e16e_11ea_bf00_b46bfcdc9ce9row6_col1\" class=\"data row6 col1\" >$3.60</td>\n",
       "                        <td id=\"T_13302e8d_e16e_11ea_bf00_b46bfcdc9ce9row6_col2\" class=\"data row6 col2\" >$147.67</td>\n",
       "                        <td id=\"T_13302e8d_e16e_11ea_bf00_b46bfcdc9ce9row6_col3\" class=\"data row6 col3\" >$4.76</td>\n",
       "            </tr>\n",
       "            <tr>\n",
       "                        <th id=\"T_13302e8d_e16e_11ea_bf00_b46bfcdc9ce9level0_row7\" class=\"row_heading level0 row7\" >40+</th>\n",
       "                        <td id=\"T_13302e8d_e16e_11ea_bf00_b46bfcdc9ce9row7_col0\" class=\"data row7 col0\" >13</td>\n",
       "                        <td id=\"T_13302e8d_e16e_11ea_bf00_b46bfcdc9ce9row7_col1\" class=\"data row7 col1\" >$2.94</td>\n",
       "                        <td id=\"T_13302e8d_e16e_11ea_bf00_b46bfcdc9ce9row7_col2\" class=\"data row7 col2\" >$38.24</td>\n",
       "                        <td id=\"T_13302e8d_e16e_11ea_bf00_b46bfcdc9ce9row7_col3\" class=\"data row7 col3\" >$3.19</td>\n",
       "            </tr>\n",
       "    </tbody></table>"
      ],
      "text/plain": [
       "<pandas.io.formats.style.Styler at 0x1ccceda17c0>"
      ]
     },
     "execution_count": 21,
     "metadata": {},
     "output_type": "execute_result"
    }
   ],
   "source": [
    "purchase_analysis_age = pd.DataFrame({\n",
    "    \"Purchase Count\":purchase_count_age,\n",
    "    \"Average Purchase Price\":average_price_age,\n",
    "    \"Total Purchase Value\":average_purchase_total_age,\n",
    "    \"Avg Total Purchase per Person\":average_purchase_per_person_age\n",
    "})\n",
    "\n",
    "# Format the data frame with no index name in the corner\n",
    "age_demographics.index.name = None\n",
    "\n",
    "# Format with currency style\n",
    "purchase_analysis_age.style.format({\"Total Purchase Value\":\"${:,.2f}\",\n",
    "                                  \"Average Purchase Price\":\"${:,.2f}\",\n",
    "                                  \"Avg Total Purchase per Person\":\"${:,.2f}\"})"
   ]
  },
  {
   "cell_type": "markdown",
   "metadata": {},
   "source": [
    "## Top Spenders"
   ]
  },
  {
   "cell_type": "markdown",
   "metadata": {},
   "source": [
    "* Run basic calculations to obtain the results in the table below\n",
    "\n",
    "\n",
    "* Create a summary data frame to hold the results\n",
    "\n",
    "\n",
    "* Sort the total purchase value column in descending order\n",
    "\n",
    "\n",
    "* Optional: give the displayed data cleaner formatting\n",
    "\n",
    "\n",
    "* Display a preview of the summary data frame\n",
    "\n"
   ]
  },
  {
   "cell_type": "code",
   "execution_count": 22,
   "metadata": {},
   "outputs": [],
   "source": [
    "# Create new data frame with the added \"SN\" and group it\n",
    "SN_groupby = Pymoli_data.groupby(\"SN\")"
   ]
  },
  {
   "cell_type": "code",
   "execution_count": 130,
   "metadata": {},
   "outputs": [],
   "source": [
    "purchase_count_SN = SN_groupby[\"Item ID\"].count()"
   ]
  },
  {
   "cell_type": "code",
   "execution_count": 30,
   "metadata": {},
   "outputs": [],
   "source": [
    "average_price_SN = SN_groupby[\"Price\"].mean()"
   ]
  },
  {
   "cell_type": "code",
   "execution_count": 31,
   "metadata": {},
   "outputs": [],
   "source": [
    "average_purchase_total_SN = SN_groupby[\"Price\"].sum()"
   ]
  },
  {
   "cell_type": "code",
   "execution_count": 142,
   "metadata": {},
   "outputs": [
    {
     "data": {
      "text/html": [
       "<style  type=\"text/css\" >\n",
       "</style><table id=\"T_d0bdaa91_e1cb_11ea_8fdd_b46bfcdc9ce9\" ><thead>    <tr>        <th class=\"blank level0\" ></th>        <th class=\"col_heading level0 col0\" >Purchase Count</th>        <th class=\"col_heading level0 col1\" >Average Purchase Price</th>        <th class=\"col_heading level0 col2\" >Total Purchase Value</th>    </tr>    <tr>        <th class=\"index_name level0\" >SN</th>        <th class=\"blank\" ></th>        <th class=\"blank\" ></th>        <th class=\"blank\" ></th>    </tr></thead><tbody>\n",
       "                <tr>\n",
       "                        <th id=\"T_d0bdaa91_e1cb_11ea_8fdd_b46bfcdc9ce9level0_row0\" class=\"row_heading level0 row0\" >Lisosia93</th>\n",
       "                        <td id=\"T_d0bdaa91_e1cb_11ea_8fdd_b46bfcdc9ce9row0_col0\" class=\"data row0 col0\" >5</td>\n",
       "                        <td id=\"T_d0bdaa91_e1cb_11ea_8fdd_b46bfcdc9ce9row0_col1\" class=\"data row0 col1\" >$3.79</td>\n",
       "                        <td id=\"T_d0bdaa91_e1cb_11ea_8fdd_b46bfcdc9ce9row0_col2\" class=\"data row0 col2\" >$18.96</td>\n",
       "            </tr>\n",
       "            <tr>\n",
       "                        <th id=\"T_d0bdaa91_e1cb_11ea_8fdd_b46bfcdc9ce9level0_row1\" class=\"row_heading level0 row1\" >Idastidru52</th>\n",
       "                        <td id=\"T_d0bdaa91_e1cb_11ea_8fdd_b46bfcdc9ce9row1_col0\" class=\"data row1 col0\" >4</td>\n",
       "                        <td id=\"T_d0bdaa91_e1cb_11ea_8fdd_b46bfcdc9ce9row1_col1\" class=\"data row1 col1\" >$3.86</td>\n",
       "                        <td id=\"T_d0bdaa91_e1cb_11ea_8fdd_b46bfcdc9ce9row1_col2\" class=\"data row1 col2\" >$15.45</td>\n",
       "            </tr>\n",
       "            <tr>\n",
       "                        <th id=\"T_d0bdaa91_e1cb_11ea_8fdd_b46bfcdc9ce9level0_row2\" class=\"row_heading level0 row2\" >Chamjask73</th>\n",
       "                        <td id=\"T_d0bdaa91_e1cb_11ea_8fdd_b46bfcdc9ce9row2_col0\" class=\"data row2 col0\" >3</td>\n",
       "                        <td id=\"T_d0bdaa91_e1cb_11ea_8fdd_b46bfcdc9ce9row2_col1\" class=\"data row2 col1\" >$4.61</td>\n",
       "                        <td id=\"T_d0bdaa91_e1cb_11ea_8fdd_b46bfcdc9ce9row2_col2\" class=\"data row2 col2\" >$13.83</td>\n",
       "            </tr>\n",
       "            <tr>\n",
       "                        <th id=\"T_d0bdaa91_e1cb_11ea_8fdd_b46bfcdc9ce9level0_row3\" class=\"row_heading level0 row3\" >Iral74</th>\n",
       "                        <td id=\"T_d0bdaa91_e1cb_11ea_8fdd_b46bfcdc9ce9row3_col0\" class=\"data row3 col0\" >4</td>\n",
       "                        <td id=\"T_d0bdaa91_e1cb_11ea_8fdd_b46bfcdc9ce9row3_col1\" class=\"data row3 col1\" >$3.40</td>\n",
       "                        <td id=\"T_d0bdaa91_e1cb_11ea_8fdd_b46bfcdc9ce9row3_col2\" class=\"data row3 col2\" >$13.62</td>\n",
       "            </tr>\n",
       "            <tr>\n",
       "                        <th id=\"T_d0bdaa91_e1cb_11ea_8fdd_b46bfcdc9ce9level0_row4\" class=\"row_heading level0 row4\" >Iskadarya95</th>\n",
       "                        <td id=\"T_d0bdaa91_e1cb_11ea_8fdd_b46bfcdc9ce9row4_col0\" class=\"data row4 col0\" >3</td>\n",
       "                        <td id=\"T_d0bdaa91_e1cb_11ea_8fdd_b46bfcdc9ce9row4_col1\" class=\"data row4 col1\" >$4.37</td>\n",
       "                        <td id=\"T_d0bdaa91_e1cb_11ea_8fdd_b46bfcdc9ce9row4_col2\" class=\"data row4 col2\" >$13.10</td>\n",
       "            </tr>\n",
       "    </tbody></table>"
      ],
      "text/plain": [
       "<pandas.io.formats.style.Styler at 0x1cccf3183a0>"
      ]
     },
     "execution_count": 142,
     "metadata": {},
     "output_type": "execute_result"
    }
   ],
   "source": [
    "purchase_analysis_SN = pd.DataFrame({\n",
    "    \"Purchase Count\":purchase_count_SN,\n",
    "    \"Average Purchase Price\":average_price_SN,\n",
    "    \"Total Purchase Value\":average_purchase_total_SN\n",
    "    })\n",
    "\n",
    "purchase_analysis_SN.sort_values(by=['Total Purchase Value'], ascending=False, inplace=True)\n",
    "\n",
    "purchase_analysis_SN = purchase_analysis_SN.head()\n",
    "\n",
    "# Format with currency style\n",
    "purchase_analysis_SN.style.format({\"Total Purchase Value\":\"${:,.2f}\",\n",
    "                                  \"Average Purchase Price\":\"${:,.2f}\",\n",
    "                                  \"Avg Total Purchase per Person\":\"${:,.2f}\"})"
   ]
  },
  {
   "cell_type": "markdown",
   "metadata": {},
   "source": [
    "## Most Popular Items"
   ]
  },
  {
   "cell_type": "markdown",
   "metadata": {},
   "source": [
    "* Retrieve the Item ID, Item Name, and Item Price columns\n",
    "\n",
    "\n",
    "* Group by Item ID and Item Name. Perform calculations to obtain purchase count, item price, and total purchase value\n",
    "\n",
    "\n",
    "* Create a summary data frame to hold the results\n",
    "\n",
    "\n",
    "* Sort the purchase count column in descending order\n",
    "\n",
    "\n",
    "* Optional: give the displayed data cleaner formatting\n",
    "\n",
    "\n",
    "* Display a preview of the summary data frame\n",
    "\n"
   ]
  },
  {
   "cell_type": "code",
   "execution_count": 125,
   "metadata": {},
   "outputs": [],
   "source": [
    "# Create new data frame with the added \"\" and group it\n",
    "Item_groupby = Pymoli_data.groupby([\"Item ID\",\"Item Name\"])"
   ]
  },
  {
   "cell_type": "code",
   "execution_count": 105,
   "metadata": {},
   "outputs": [],
   "source": [
    "purchase_count_Item = Item_groupby[\"Item ID\"].count()"
   ]
  },
  {
   "cell_type": "code",
   "execution_count": 126,
   "metadata": {},
   "outputs": [],
   "source": [
    "purchase_Item_price = Item_groupby[\"Price\"].mean()"
   ]
  },
  {
   "cell_type": "code",
   "execution_count": 123,
   "metadata": {},
   "outputs": [],
   "source": [
    "purchase_total_Item = Item_groupby[\"Price\"].sum()"
   ]
  },
  {
   "cell_type": "code",
   "execution_count": 143,
   "metadata": {},
   "outputs": [
    {
     "data": {
      "text/html": [
       "<style  type=\"text/css\" >\n",
       "</style><table id=\"T_e1afc979_e1cb_11ea_aaa4_b46bfcdc9ce9\" ><thead>    <tr>        <th class=\"blank\" ></th>        <th class=\"blank level0\" ></th>        <th class=\"col_heading level0 col0\" >Purchase Count</th>        <th class=\"col_heading level0 col1\" >Item Price</th>        <th class=\"col_heading level0 col2\" >Total Purchase Value</th>    </tr>    <tr>        <th class=\"index_name level0\" >Item ID</th>        <th class=\"index_name level1\" >Item Name</th>        <th class=\"blank\" ></th>        <th class=\"blank\" ></th>        <th class=\"blank\" ></th>    </tr></thead><tbody>\n",
       "                <tr>\n",
       "                        <th id=\"T_e1afc979_e1cb_11ea_aaa4_b46bfcdc9ce9level0_row0\" class=\"row_heading level0 row0\" >92</th>\n",
       "                        <th id=\"T_e1afc979_e1cb_11ea_aaa4_b46bfcdc9ce9level1_row0\" class=\"row_heading level1 row0\" >Final Critic</th>\n",
       "                        <td id=\"T_e1afc979_e1cb_11ea_aaa4_b46bfcdc9ce9row0_col0\" class=\"data row0 col0\" >13</td>\n",
       "                        <td id=\"T_e1afc979_e1cb_11ea_aaa4_b46bfcdc9ce9row0_col1\" class=\"data row0 col1\" >$4.61</td>\n",
       "                        <td id=\"T_e1afc979_e1cb_11ea_aaa4_b46bfcdc9ce9row0_col2\" class=\"data row0 col2\" >$59.99</td>\n",
       "            </tr>\n",
       "            <tr>\n",
       "                        <th id=\"T_e1afc979_e1cb_11ea_aaa4_b46bfcdc9ce9level0_row1\" class=\"row_heading level0 row1\" >178</th>\n",
       "                        <th id=\"T_e1afc979_e1cb_11ea_aaa4_b46bfcdc9ce9level1_row1\" class=\"row_heading level1 row1\" >Oathbreaker, Last Hope of the Breaking Storm</th>\n",
       "                        <td id=\"T_e1afc979_e1cb_11ea_aaa4_b46bfcdc9ce9row1_col0\" class=\"data row1 col0\" >12</td>\n",
       "                        <td id=\"T_e1afc979_e1cb_11ea_aaa4_b46bfcdc9ce9row1_col1\" class=\"data row1 col1\" >$4.23</td>\n",
       "                        <td id=\"T_e1afc979_e1cb_11ea_aaa4_b46bfcdc9ce9row1_col2\" class=\"data row1 col2\" >$50.76</td>\n",
       "            </tr>\n",
       "            <tr>\n",
       "                        <th id=\"T_e1afc979_e1cb_11ea_aaa4_b46bfcdc9ce9level0_row2\" class=\"row_heading level0 row2\" >145</th>\n",
       "                        <th id=\"T_e1afc979_e1cb_11ea_aaa4_b46bfcdc9ce9level1_row2\" class=\"row_heading level1 row2\" >Fiery Glass Crusader</th>\n",
       "                        <td id=\"T_e1afc979_e1cb_11ea_aaa4_b46bfcdc9ce9row2_col0\" class=\"data row2 col0\" >9</td>\n",
       "                        <td id=\"T_e1afc979_e1cb_11ea_aaa4_b46bfcdc9ce9row2_col1\" class=\"data row2 col1\" >$4.58</td>\n",
       "                        <td id=\"T_e1afc979_e1cb_11ea_aaa4_b46bfcdc9ce9row2_col2\" class=\"data row2 col2\" >$41.22</td>\n",
       "            </tr>\n",
       "            <tr>\n",
       "                        <th id=\"T_e1afc979_e1cb_11ea_aaa4_b46bfcdc9ce9level0_row3\" class=\"row_heading level0 row3\" >132</th>\n",
       "                        <th id=\"T_e1afc979_e1cb_11ea_aaa4_b46bfcdc9ce9level1_row3\" class=\"row_heading level1 row3\" >Persuasion</th>\n",
       "                        <td id=\"T_e1afc979_e1cb_11ea_aaa4_b46bfcdc9ce9row3_col0\" class=\"data row3 col0\" >9</td>\n",
       "                        <td id=\"T_e1afc979_e1cb_11ea_aaa4_b46bfcdc9ce9row3_col1\" class=\"data row3 col1\" >$3.22</td>\n",
       "                        <td id=\"T_e1afc979_e1cb_11ea_aaa4_b46bfcdc9ce9row3_col2\" class=\"data row3 col2\" >$28.99</td>\n",
       "            </tr>\n",
       "            <tr>\n",
       "                        <th id=\"T_e1afc979_e1cb_11ea_aaa4_b46bfcdc9ce9level0_row4\" class=\"row_heading level0 row4\" >108</th>\n",
       "                        <th id=\"T_e1afc979_e1cb_11ea_aaa4_b46bfcdc9ce9level1_row4\" class=\"row_heading level1 row4\" >Extraction, Quickblade Of Trembling Hands</th>\n",
       "                        <td id=\"T_e1afc979_e1cb_11ea_aaa4_b46bfcdc9ce9row4_col0\" class=\"data row4 col0\" >9</td>\n",
       "                        <td id=\"T_e1afc979_e1cb_11ea_aaa4_b46bfcdc9ce9row4_col1\" class=\"data row4 col1\" >$3.53</td>\n",
       "                        <td id=\"T_e1afc979_e1cb_11ea_aaa4_b46bfcdc9ce9row4_col2\" class=\"data row4 col2\" >$31.77</td>\n",
       "            </tr>\n",
       "    </tbody></table>"
      ],
      "text/plain": [
       "<pandas.io.formats.style.Styler at 0x1cccf5f7f70>"
      ]
     },
     "execution_count": 143,
     "metadata": {},
     "output_type": "execute_result"
    }
   ],
   "source": [
    "purchase_analysis_Item = pd.DataFrame({\n",
    "    \"Purchase Count\":purchase_count_Item,\n",
    "    \"Item Price\":purchase_Item_price,\n",
    "    \"Total Purchase Value\":purchase_total_Item\n",
    "    })\n",
    "\n",
    "purchase_analysis_Item.sort_values(by=['Purchase Count'], ascending=False, inplace=True)\n",
    "\n",
    "purchase_analysis_Item = purchase_analysis_Item.head()\n",
    "\n",
    "# Format with currency style\n",
    "purchase_analysis_Item.style.format({\"Total Purchase Value\":\"${:,.2f}\",\n",
    "                                  \"Item Price\":\"${:,.2f}\"\n",
    "                                  })"
   ]
  },
  {
   "cell_type": "markdown",
   "metadata": {},
   "source": [
    "## Most Profitable Items"
   ]
  },
  {
   "cell_type": "markdown",
   "metadata": {},
   "source": [
    "* Sort the above table by total purchase value in descending order\n",
    "\n",
    "\n",
    "* Optional: give the displayed data cleaner formatting\n",
    "\n",
    "\n",
    "* Display a preview of the data frame\n",
    "\n"
   ]
  },
  {
   "cell_type": "code",
   "execution_count": 144,
   "metadata": {
    "scrolled": true
   },
   "outputs": [
    {
     "data": {
      "text/html": [
       "<style  type=\"text/css\" >\n",
       "</style><table id=\"T_ed24fe08_e1cb_11ea_be97_b46bfcdc9ce9\" ><thead>    <tr>        <th class=\"blank\" ></th>        <th class=\"blank level0\" ></th>        <th class=\"col_heading level0 col0\" >Purchase Count</th>        <th class=\"col_heading level0 col1\" >Item Price</th>        <th class=\"col_heading level0 col2\" >Total Purchase Value</th>    </tr>    <tr>        <th class=\"index_name level0\" >Item ID</th>        <th class=\"index_name level1\" >Item Name</th>        <th class=\"blank\" ></th>        <th class=\"blank\" ></th>        <th class=\"blank\" ></th>    </tr></thead><tbody>\n",
       "                <tr>\n",
       "                        <th id=\"T_ed24fe08_e1cb_11ea_be97_b46bfcdc9ce9level0_row0\" class=\"row_heading level0 row0\" >92</th>\n",
       "                        <th id=\"T_ed24fe08_e1cb_11ea_be97_b46bfcdc9ce9level1_row0\" class=\"row_heading level1 row0\" >Final Critic</th>\n",
       "                        <td id=\"T_ed24fe08_e1cb_11ea_be97_b46bfcdc9ce9row0_col0\" class=\"data row0 col0\" >13</td>\n",
       "                        <td id=\"T_ed24fe08_e1cb_11ea_be97_b46bfcdc9ce9row0_col1\" class=\"data row0 col1\" >$4.61</td>\n",
       "                        <td id=\"T_ed24fe08_e1cb_11ea_be97_b46bfcdc9ce9row0_col2\" class=\"data row0 col2\" >$59.99</td>\n",
       "            </tr>\n",
       "            <tr>\n",
       "                        <th id=\"T_ed24fe08_e1cb_11ea_be97_b46bfcdc9ce9level0_row1\" class=\"row_heading level0 row1\" >178</th>\n",
       "                        <th id=\"T_ed24fe08_e1cb_11ea_be97_b46bfcdc9ce9level1_row1\" class=\"row_heading level1 row1\" >Oathbreaker, Last Hope of the Breaking Storm</th>\n",
       "                        <td id=\"T_ed24fe08_e1cb_11ea_be97_b46bfcdc9ce9row1_col0\" class=\"data row1 col0\" >12</td>\n",
       "                        <td id=\"T_ed24fe08_e1cb_11ea_be97_b46bfcdc9ce9row1_col1\" class=\"data row1 col1\" >$4.23</td>\n",
       "                        <td id=\"T_ed24fe08_e1cb_11ea_be97_b46bfcdc9ce9row1_col2\" class=\"data row1 col2\" >$50.76</td>\n",
       "            </tr>\n",
       "            <tr>\n",
       "                        <th id=\"T_ed24fe08_e1cb_11ea_be97_b46bfcdc9ce9level0_row2\" class=\"row_heading level0 row2\" >82</th>\n",
       "                        <th id=\"T_ed24fe08_e1cb_11ea_be97_b46bfcdc9ce9level1_row2\" class=\"row_heading level1 row2\" >Nirvana</th>\n",
       "                        <td id=\"T_ed24fe08_e1cb_11ea_be97_b46bfcdc9ce9row2_col0\" class=\"data row2 col0\" >9</td>\n",
       "                        <td id=\"T_ed24fe08_e1cb_11ea_be97_b46bfcdc9ce9row2_col1\" class=\"data row2 col1\" >$4.90</td>\n",
       "                        <td id=\"T_ed24fe08_e1cb_11ea_be97_b46bfcdc9ce9row2_col2\" class=\"data row2 col2\" >$44.10</td>\n",
       "            </tr>\n",
       "            <tr>\n",
       "                        <th id=\"T_ed24fe08_e1cb_11ea_be97_b46bfcdc9ce9level0_row3\" class=\"row_heading level0 row3\" >145</th>\n",
       "                        <th id=\"T_ed24fe08_e1cb_11ea_be97_b46bfcdc9ce9level1_row3\" class=\"row_heading level1 row3\" >Fiery Glass Crusader</th>\n",
       "                        <td id=\"T_ed24fe08_e1cb_11ea_be97_b46bfcdc9ce9row3_col0\" class=\"data row3 col0\" >9</td>\n",
       "                        <td id=\"T_ed24fe08_e1cb_11ea_be97_b46bfcdc9ce9row3_col1\" class=\"data row3 col1\" >$4.58</td>\n",
       "                        <td id=\"T_ed24fe08_e1cb_11ea_be97_b46bfcdc9ce9row3_col2\" class=\"data row3 col2\" >$41.22</td>\n",
       "            </tr>\n",
       "            <tr>\n",
       "                        <th id=\"T_ed24fe08_e1cb_11ea_be97_b46bfcdc9ce9level0_row4\" class=\"row_heading level0 row4\" >103</th>\n",
       "                        <th id=\"T_ed24fe08_e1cb_11ea_be97_b46bfcdc9ce9level1_row4\" class=\"row_heading level1 row4\" >Singed Scalpel</th>\n",
       "                        <td id=\"T_ed24fe08_e1cb_11ea_be97_b46bfcdc9ce9row4_col0\" class=\"data row4 col0\" >8</td>\n",
       "                        <td id=\"T_ed24fe08_e1cb_11ea_be97_b46bfcdc9ce9row4_col1\" class=\"data row4 col1\" >$4.35</td>\n",
       "                        <td id=\"T_ed24fe08_e1cb_11ea_be97_b46bfcdc9ce9row4_col2\" class=\"data row4 col2\" >$34.80</td>\n",
       "            </tr>\n",
       "    </tbody></table>"
      ],
      "text/plain": [
       "<pandas.io.formats.style.Styler at 0x1cccf0783a0>"
      ]
     },
     "execution_count": 144,
     "metadata": {},
     "output_type": "execute_result"
    }
   ],
   "source": [
    "purchase_analysis_Item = pd.DataFrame({\n",
    "    \"Purchase Count\":purchase_count_Item,\n",
    "    \"Item Price\":purchase_Item_price,\n",
    "    \"Total Purchase Value\":purchase_total_Item\n",
    "    })\n",
    "\n",
    "purchase_analysis_Item.sort_values(by=['Total Purchase Value'], ascending=False, inplace=True)\n",
    "\n",
    "purchase_analysis_Item = purchase_analysis_Item.head()\n",
    "\n",
    "# Format with currency style\n",
    "purchase_analysis_Item.style.format({\"Total Purchase Value\":\"${:,.2f}\",\n",
    "                                  \"Item Price\":\"${:,.2f}\"\n",
    "                                  })"
   ]
  },
  {
   "cell_type": "code",
   "execution_count": null,
   "metadata": {},
   "outputs": [],
   "source": []
  }
 ],
 "metadata": {
  "anaconda-cloud": {},
  "kernel_info": {
   "name": "python3"
  },
  "kernelspec": {
   "display_name": "Python 3",
   "language": "python",
   "name": "python3"
  },
  "language_info": {
   "codemirror_mode": {
    "name": "ipython",
    "version": 3
   },
   "file_extension": ".py",
   "mimetype": "text/x-python",
   "name": "python",
   "nbconvert_exporter": "python",
   "pygments_lexer": "ipython3",
   "version": "3.8.3"
  },
  "latex_envs": {
   "LaTeX_envs_menu_present": true,
   "autoclose": false,
   "autocomplete": true,
   "bibliofile": "biblio.bib",
   "cite_by": "apalike",
   "current_citInitial": 1,
   "eqLabelWithNumbers": true,
   "eqNumInitial": 1,
   "hotkeys": {
    "equation": "Ctrl-E",
    "itemize": "Ctrl-I"
   },
   "labels_anchors": false,
   "latex_user_defs": false,
   "report_style_numbering": false,
   "user_envs_cfg": false
  },
  "nteract": {
   "version": "0.2.0"
  }
 },
 "nbformat": 4,
 "nbformat_minor": 2
}
